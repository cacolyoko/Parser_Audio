{
 "cells": [
  {
   "cell_type": "code",
   "execution_count": 2,
   "metadata": {},
   "outputs": [],
   "source": [
    "import moviepy.editor as mp\n",
    "from moviepy.video.io.ffmpeg_tools import ffmpeg_extract_subclip\n",
    "from moviepy.video.io.VideoFileClip import VideoFileClip\n",
    "import speech_recognition as sr\n",
    "import os\n",
    "import tkinter\n",
    "from tkinter.filedialog import askopenfilename\n",
    "import string\n",
    "import re\n",
    "import nltk\n",
    "from nltk.corpus import stopwords\n",
    "from nltk.stem import SnowballStemmer\n",
    "from nltk.tokenize import word_tokenize\n",
    "\n",
    "import json"
   ]
  },
  {
   "cell_type": "code",
   "execution_count": 14,
   "metadata": {},
   "outputs": [
    {
     "name": "stderr",
     "output_type": "stream",
     "text": [
      "chunk:   0%|          | 0/1023 [00:00<?, ?it/s, now=None]"
     ]
    },
    {
     "name": "stdout",
     "output_type": "stream",
     "text": [
      "MoviePy - Writing audio in .\\\\audios\\\\Borja_1.wav\n"
     ]
    },
    {
     "name": "stderr",
     "output_type": "stream",
     "text": [
      "                                                                      \r"
     ]
    },
    {
     "name": "stdout",
     "output_type": "stream",
     "text": [
      "MoviePy - Done.\n",
      "tengo la próxima rotonda rotonda media levanto el pie del acelerador lo tonta cerca y en la ocupada\n"
     ]
    }
   ],
   "source": [
    "# Extraigo el audio del vídeo\n",
    "\n",
    "video = mp.VideoFileClip(\".\\\\videos\\\\Borja_7.mp4\")\n",
    "audio = video.audio.write_audiofile(r\".\\\\audios\\\\Borja_1.wav\") # de cuando se recibia un vídeo\n",
    "recibido_cambio = sr.Recognizer()\n",
    "speech_audio = sr.AudioFile(\".\\\\audios\\\\Borja_1.wav\")\n",
    "\n",
    "with speech_audio as fuente:\n",
    "    #Se reduce el ruido\n",
    "    recibido_cambio.adjust_for_ambient_noise(fuente)\n",
    "    audio = recibido_cambio.record(fuente)\n",
    "    #Transcripcion\n",
    "    texto_transcrito = recibido_cambio.recognize_google(audio, language = \"es-ES\")\n",
    "    print(texto_transcrito)"
   ]
  },
  {
   "cell_type": "code",
   "execution_count": 4,
   "metadata": {},
   "outputs": [
    {
     "name": "stdout",
     "output_type": "stream",
     "text": [
      "Se ha guardado la transcripción en el archivo .\\t_raw\\Borja_1.txt\n"
     ]
    }
   ],
   "source": [
    "# Guardo el texto en bruto transcrito de \n",
    "\n",
    "filename_t_raw = \".\\\\t_raw\\\\Borja_1.txt\"\n",
    "with open(filename_t_raw, \"w\", encoding=\"utf-8\") as f:\n",
    "    f.write(texto_transcrito)\n",
    "print(\"Se ha guardado la transcripción en el archivo \" + filename_t_raw)"
   ]
  }
 ],
 "metadata": {
  "kernelspec": {
   "display_name": "Python 3.9.1 64-bit",
   "language": "python",
   "name": "python3"
  },
  "language_info": {
   "codemirror_mode": {
    "name": "ipython",
    "version": 3
   },
   "file_extension": ".py",
   "mimetype": "text/x-python",
   "name": "python",
   "nbconvert_exporter": "python",
   "pygments_lexer": "ipython3",
   "version": "3.9.1"
  },
  "orig_nbformat": 4,
  "vscode": {
   "interpreter": {
    "hash": "4bbc1c972b9b102a93c73821bc38c3abe2659eb37faffcc2a906a1a9997853cc"
   }
  }
 },
 "nbformat": 4,
 "nbformat_minor": 2
}
