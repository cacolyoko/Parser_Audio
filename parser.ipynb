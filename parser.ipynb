{
 "cells": [
  {
   "cell_type": "code",
   "execution_count": 1,
   "metadata": {},
   "outputs": [],
   "source": [
    "import moviepy.editor as mp\n",
    "from moviepy.video.io.ffmpeg_tools import ffmpeg_extract_subclip\n",
    "from moviepy.video.io.VideoFileClip import VideoFileClip\n",
    "import speech_recognition as sr\n",
    "from tkinter.filedialog import askopenfilename\n",
    "import string\n",
    "import re\n",
    "import nltk\n",
    "from nltk.corpus import stopwords\n",
    "from nltk.stem import SnowballStemmer\n",
    "from nltk.tokenize import word_tokenize\n",
    "import json"
   ]
  },
  {
   "cell_type": "code",
   "execution_count": 24,
   "metadata": {},
   "outputs": [],
   "source": [
    "name_file = \"Borja\"\n",
    "n_file = 2"
   ]
  },
  {
   "cell_type": "code",
   "execution_count": 26,
   "metadata": {},
   "outputs": [
    {
     "name": "stderr",
     "output_type": "stream",
     "text": [
      "chunk:   0%|          | 0/891 [00:00<?, ?it/s, now=None]"
     ]
    },
    {
     "name": "stdout",
     "output_type": "stream",
     "text": [
      "MoviePy - Writing audio in .\\\\audios\\\\Borja_2.wav\n"
     ]
    },
    {
     "name": "stderr",
     "output_type": "stream",
     "text": [
      "                                                                    "
     ]
    },
    {
     "name": "stdout",
     "output_type": "stream",
     "text": [
      "MoviePy - Done.\n"
     ]
    },
    {
     "name": "stderr",
     "output_type": "stream",
     "text": [
      "\r"
     ]
    }
   ],
   "source": [
    "# Extraigo el audio del vídeo\n",
    "\n",
    "video = mp.VideoFileClip(\".\\\\videos\\\\{}_{}.mp4\".format(name_file, n_file))\n",
    "audio = video.audio.write_audiofile(r\".\\\\audios\\\\{}_{}.wav\".format(name_file, n_file)) # de cuando se recibia un vídeo\n",
    "recibido_cambio = sr.Recognizer()\n",
    "speech_audio = sr.AudioFile(\".\\\\audios\\\\{}_{}.wav\".format(name_file, n_file))"
   ]
  },
  {
   "cell_type": "code",
   "execution_count": 27,
   "metadata": {},
   "outputs": [
    {
     "name": "stdout",
     "output_type": "stream",
     "text": [
      "acelera un aproximado funda mantengo el acelerador rotonda media celador centro ocupado\n"
     ]
    }
   ],
   "source": [
    "# Reconocedor básico\n",
    "\n",
    "with speech_audio as fuente:\n",
    "    #Se reduce el ruido\n",
    "    recibido_cambio.adjust_for_ambient_noise(fuente)\n",
    "    audio = recibido_cambio.record(fuente)\n",
    "    #Transcripcion\n",
    "    texto_transcrito = recibido_cambio.recognize_google(audio, language = \"es-ES\")\n",
    "    print(texto_transcrito)"
   ]
  },
  {
   "cell_type": "code",
   "execution_count": 28,
   "metadata": {},
   "outputs": [
    {
     "name": "stdout",
     "output_type": "stream",
     "text": [
      "Se ha guardado la transcripción en el archivo .\\t_raw\\Borja_2.txt\n"
     ]
    }
   ],
   "source": [
    "# Guardo el texto en bruto transcrito de los audios\n",
    "\n",
    "filename_t_raw = \".\\\\t_raw\\\\{}_{}.txt\".format(name_file, n_file)\n",
    "with open(filename_t_raw, \"w\", encoding=\"utf-8\") as f:\n",
    "    f.write(texto_transcrito)\n",
    "print(\"Se ha guardado la transcripción en el archivo \" + filename_t_raw)"
   ]
  },
  {
   "cell_type": "code",
   "execution_count": 29,
   "metadata": {},
   "outputs": [
    {
     "name": "stdout",
     "output_type": "stream",
     "text": [
      "[{'word': 'acelero', 'token': 'aceler', 'start': 0.0}, {'word': 'aproximo', 'token': 'aproxim', 'start': 0.0}, {'word': 'rotonda', 'token': 'rotond', 'start': 0.0}, {'word': 'mantengo', 'token': 'manteng', 'start': 0.0}, {'word': 'acelerador', 'token': 'aceler', 'start': 0.0}, {'word': 'rotonda', 'token': 'rotond', 'start': 0.0}, {'word': 'media', 'token': 'medi', 'start': 0.0}, {'word': 'mantengo', 'token': 'manteng', 'start': 0.0}, {'word': 'acelerador', 'token': 'aceler', 'start': 0.0}, {'word': 'rotonda', 'token': 'rotond', 'start': 0.0}, {'word': 'cerca', 'token': 'cerc', 'start': 0.0}, {'word': 'centro', 'token': 'centr', 'start': 0.0}, {'word': 'ocupado', 'token': 'ocup', 'start': 0.0}, {'word': 'levanto', 'token': 'levant', 'start': 0.0}, {'word': 'acelerador', 'token': 'aceler', 'start': 0.0}, {'word': 'izquierda', 'token': 'izquierd', 'start': 0.0}, {'word': 'libre', 'token': 'libr', 'start': 0.0}, {'word': 'entro', 'token': 'entro', 'start': 0.0}, {'word': 'rotonda', 'token': 'rotond', 'start': 0.0}, {'word': 'acelero', 'token': 'aceler', 'start': 0.0}, {'word': 'giro', 'token': 'gir', 'start': 0.0}, {'word': 'derecha', 'token': 'derech', 'start': 0.0}, {'word': 'intermitente', 'token': 'intermitent', 'start': 0.0}, {'word': 'izquierda', 'token': 'izquierd', 'start': 0.0}, {'word': 'giro', 'token': 'gir', 'start': 0.0}, {'word': 'izquierda', 'token': 'izquierd', 'start': 0.0}, {'word': 'rotonda', 'token': 'rotond', 'start': 0.0}, {'word': 'mantengo', 'token': 'manteng', 'start': 0.0}, {'word': 'acelerador', 'token': 'aceler', 'start': 0.0}, {'word': 'freno', 'token': 'fren', 'start': 0.0}, {'word': 'acelero', 'token': 'aceler', 'start': 0.0}, {'word': 'intermitente', 'token': 'intermitent', 'start': 0.0}, {'word': 'derecha', 'token': 'derech', 'start': 0.0}, {'word': 'acelero', 'token': 'aceler', 'start': 0.0}, {'word': 'giro', 'token': 'gir', 'start': 0.0}, {'word': 'derecha', 'token': 'derech', 'start': 0.0}, {'word': 'salgo', 'token': 'salg', 'start': 0.0}, {'word': 'rotonda', 'token': 'rotond', 'start': 0.0}, {'word': 'enderezo', 'token': 'enderez', 'start': 0.0}, {'word': 'acelero', 'token': 'aceler', 'start': 0.0}, {'word': 'acelero', 'token': 'aceler', 'start': 0.0}]\n"
     ]
    }
   ],
   "source": [
    "f = open ('.\\\\t_processed\\\\{}_{}.txt'.format(name_file, n_file),'r',encoding='utf8')\n",
    "text = f.read()\n",
    "\n",
    "sw = set(stopwords.words(\"spanish\"))\n",
    "# Limpio con regex el texto\n",
    "text = re.sub('[%s]' % re.escape(string.punctuation + \"'\" + '\"' + \"’\" + '”' + '“' + \"•‘\"), ' ', str(text))\n",
    "text = re.sub('\\w*\\d\\w*', ' ', str(text))\n",
    "# Pongo el texto en minúsculas\n",
    "text = text.lower()\n",
    "# Tokenizo por palabras\n",
    "text = word_tokenize(str(text), language='spanish')\n",
    "tokens = []\n",
    "for t in text:\n",
    "    if not t in sw:\n",
    "        tokens.append(t)\n",
    "\n",
    "json_filename = \".\\\\t_processed\\\\{}_{}.json\".format(name_file, n_file)\n",
    "with open(json_filename, \"w\", encoding='utf-8') as f:\n",
    "    data = json.dump([], f)\n",
    "with open(json_filename, \"r\", encoding='utf-8') as f:\n",
    "    data = json.load(f)\n",
    "for t in tokens:\n",
    "    entry = {\n",
    "        'word': t,\n",
    "        'token': SnowballStemmer('spanish').stem(t),\n",
    "        'start': 0.0\n",
    "    }\n",
    "    data.append(entry)\n",
    "\n",
    "with open(json_filename, \"w\", encoding='utf-8') as f:\n",
    "    json.dump(data, f, ensure_ascii=False)\n",
    "print(data)"
   ]
  },
  {
   "cell_type": "code",
   "execution_count": 30,
   "metadata": {},
   "outputs": [
    {
     "name": "stdout",
     "output_type": "stream",
     "text": [
      "{'inst_0': [{'word': 'acelero', 'token': 'aceler', 'start': 0.0}, {'tag': 'T-ON', 'sentence': 'acelero'}], 'inst_1': [{'word': 'aproximo', 'token': 'aproxim', 'start': 0.0}, {'word': 'rotonda', 'token': 'rotond', 'start': 0.0}, {'tag': 'APROX', 'sentence': 'aproximo rotonda'}], 'inst_2': [{'word': 'mantengo', 'token': 'manteng', 'start': 0.0}, {'word': 'acelerador', 'token': 'aceler', 'start': 0.0}, {'tag': 'T-HOLD', 'sentence': 'mantengo acelerador'}], 'inst_3': [{'word': 'rotonda', 'token': 'rotond', 'start': 0.0}, {'word': 'media', 'token': 'medi', 'start': 0.0}, {'tag': 'RND-MD', 'sentence': 'rotonda media'}], 'inst_4': [{'word': 'mantengo', 'token': 'manteng', 'start': 0.0}, {'word': 'acelerador', 'token': 'aceler', 'start': 0.0}, {'tag': 'T-HOLD', 'sentence': 'mantengo acelerador'}], 'inst_5': [{'word': 'rotonda', 'token': 'rotond', 'start': 0.0}, {'word': 'cerca', 'token': 'cerc', 'start': 0.0}, {'tag': 'RND-NR', 'sentence': 'rotonda cerca'}], 'inst_6': [{'word': 'centro', 'token': 'centr', 'start': 0.0}, {'word': 'ocupado', 'token': 'ocup', 'start': 0.0}, {'tag': 'F-BUSY', 'sentence': 'centro ocupado'}], 'inst_7': [{'word': 'levanto', 'token': 'levant', 'start': 0.0}, {'word': 'acelerador', 'token': 'aceler', 'start': 0.0}, {'tag': 'T-OFF', 'sentence': 'levanto acelerador'}], 'inst_8': [{'word': 'izquierda', 'token': 'izquierd', 'start': 0.0}, {'word': 'libre', 'token': 'libr', 'start': 0.0}, {'tag': 'L-FREE', 'sentence': 'izquierda libre'}], 'inst_9': [{'word': 'entro', 'token': 'entro', 'start': 0.0}, {'word': 'rotonda', 'token': 'rotond', 'start': 0.0}, {'tag': 'RND-IN', 'sentence': 'entro rotonda'}], 'inst_10': [{'word': 'acelero', 'token': 'aceler', 'start': 0.0}, {'tag': 'T-ON', 'sentence': 'acelero'}], 'inst_11': [{'word': 'giro', 'token': 'gir', 'start': 0.0}, {'word': 'derecha', 'token': 'derech', 'start': 0.0}, {'tag': 'TURN-R', 'sentence': 'giro derecha'}], 'inst_12': [{'word': 'intermitente', 'token': 'intermitent', 'start': 0.0}, {'word': 'izquierda', 'token': 'izquierd', 'start': 0.0}, {'tag': 'LB-ON', 'sentence': 'intermitente izquierda'}], 'inst_13': [{'word': 'giro', 'token': 'gir', 'start': 0.0}, {'word': 'izquierda', 'token': 'izquierd', 'start': 0.0}, {'word': 'rotonda', 'token': 'rotond', 'start': 0.0}, {'tag': 'TURN-L', 'sentence': 'giro izquierda rotonda'}], 'inst_14': [{'word': 'mantengo', 'token': 'manteng', 'start': 0.0}, {'word': 'acelerador', 'token': 'aceler', 'start': 0.0}, {'tag': 'T-HOLD', 'sentence': 'mantengo acelerador'}], 'inst_15': [{'word': 'freno', 'token': 'fren', 'start': 0.0}, {'tag': 'B-ON', 'sentence': 'freno'}], 'inst_16': [{'word': 'acelero', 'token': 'aceler', 'start': 0.0}, {'tag': 'T-ON', 'sentence': 'acelero'}], 'inst_17': [{'word': 'intermitente', 'token': 'intermitent', 'start': 0.0}, {'word': 'derecha', 'token': 'derech', 'start': 0.0}, {'tag': 'RB-ON', 'sentence': 'intermitente derecha'}], 'inst_18': [{'word': 'acelero', 'token': 'aceler', 'start': 0.0}, {'tag': 'T-ON', 'sentence': 'acelero'}], 'inst_19': [{'word': 'giro', 'token': 'gir', 'start': 0.0}, {'word': 'derecha', 'token': 'derech', 'start': 0.0}, {'tag': 'TURN-R', 'sentence': 'giro derecha'}], 'inst_20': [{'word': 'salgo', 'token': 'salg', 'start': 0.0}, {'word': 'rotonda', 'token': 'rotond', 'start': 0.0}, {'tag': 'RND-EXIT', 'sentence': 'salgo rotonda'}], 'inst_21': [{'word': 'enderezo', 'token': 'enderez', 'start': 0.0}, {'tag': 'TURN-STR', 'sentence': 'enderezo'}], 'inst_22': [{'word': 'acelero', 'token': 'aceler', 'start': 0.0}, {'tag': 'T-ON', 'sentence': 'acelero'}], 'inst_23': [{'word': 'acelero', 'token': 'aceler', 'start': 0.0}, {'tag': 'T-ON', 'sentence': 'acelero'}]}\n"
     ]
    }
   ],
   "source": [
    "instrucciones = {\n",
    "    'aceler': 'T-ON',\n",
    "    'acerc rotond': 'APROX',\n",
    "    'rotond medi': 'RND-MD',\n",
    "    'manteng aceler': 'T-HOLD',\n",
    "    'rotond cerc': 'RND-NR',\n",
    "    'izquierd libr': 'L-FREE',\n",
    "    'izquierd ocup': 'L-BUSY',\n",
    "    'ced': 'RND-IN',\n",
    "    'entro rotond': 'RND-IN',\n",
    "    'gir derech': 'TURN-R',\n",
    "    'intermitent izquierd': 'LB-ON',\n",
    "    'rotond gir izquierd': 'TURN-L',\n",
    "    'rotond gir derech': 'TURN-R',\n",
    "    'gir izquierd': 'TURN-L',\n",
    "    'quit intermitent': 'BLK-OFF',\n",
    "    'intermitent derech': 'RB-ON',\n",
    "    'salg rotond': 'RND-EXIT',\n",
    "    'aproxim rotond': 'APROX',\n",
    "    'levant aceler': 'T-OFF',\n",
    "    'levant pie aceler': 'T-OFF',\n",
    "    'vien nadi': 'RND-CLEAR',\n",
    "    'gir izquierd rotond': 'TURN-L',\n",
    "    'gir derech rotond': 'TURN-R',\n",
    "    'atencion ciclist': 'WARN-VEH',\n",
    "    'atencion coche': 'WARN-VEH',\n",
    "    'fren': 'B-ON',\n",
    "    'centr libr': 'L-FREE',\n",
    "    'centr ocup': 'F-BUSY',\n",
    "    'enderez': 'TURN-STR'\n",
    "}\n",
    "\n",
    "json_filename = \".\\\\t_processed\\\\{}_{}.json\".format(name_file, n_file)\n",
    "with open(json_filename, \"r\", encoding='utf-8') as f:\n",
    "    data = json.load(f)\n",
    "\n",
    "dataset = {}\n",
    "count = 0\n",
    "\n",
    "for i, x in enumerate(data):\n",
    "    w = x['token']\n",
    "    if x['token'] in instrucciones:\n",
    "        #print(\"{} => {}\".format(w, instrucciones[w]))\n",
    "        dataset[\"inst_{}\".format(count)] = [x]\n",
    "        dataset[\"inst_{}\".format(count)].append({\"tag\": instrucciones[w], \"sentence\": x['word']})\n",
    "        count += 1\n",
    "    elif (len(data) > i + 2) and x['token'] + ' ' + data[i + 1]['token'] + ' ' + data[i + 2]['token'] in instrucciones:\n",
    "        sentence = x['word'] + ' ' + data[i + 1]['word'] + ' ' + data[i + 2]['word']\n",
    "        sentence_t = x['token'] + ' ' + data[i + 1]['token'] + ' ' + data[i + 2]['token']\n",
    "        dataset[\"inst_{}\".format(count)] = [x, data[i + 1], data[i + 2]]\n",
    "        dataset[\"inst_{}\".format(count)].append({\"tag\": instrucciones[sentence_t], \"sentence\": sentence})\n",
    "        count += 1\n",
    "        del data[i + 1]\n",
    "        del data[i + 1]\n",
    "        #print(\"{} => {}\".format(sentence, instrucciones[sentence]))\n",
    "    elif (len(data) > i + 1) and x['token'] + ' ' + data[i + 1]['token'] in instrucciones:\n",
    "        sentence = x['word'] + ' ' + data[i + 1]['word']\n",
    "        sentence_t = x['token'] + ' ' + data[i + 1]['token']\n",
    "        dataset[\"inst_{}\".format(count)] = [x, data[i + 1]]\n",
    "        dataset[\"inst_{}\".format(count)].append({\"tag\": instrucciones[sentence_t], \"sentence\": sentence})\n",
    "        count += 1\n",
    "        del data[i + 1]\n",
    "        #print(\"{} => {}\".format(sentence, instrucciones[sentence]))\n",
    "\n",
    "json_out = \".\\\\t_tags\\\\{}_{}.json\".format(name_file, n_file)\n",
    "with open(json_out, \"w\", encoding='utf-8') as f:\n",
    "    json.dump(dataset, f, ensure_ascii=False)\n",
    "\n",
    "print(dataset)"
   ]
  }
 ],
 "metadata": {
  "kernelspec": {
   "display_name": "Python 3.9.1 64-bit",
   "language": "python",
   "name": "python3"
  },
  "language_info": {
   "codemirror_mode": {
    "name": "ipython",
    "version": 3
   },
   "file_extension": ".py",
   "mimetype": "text/x-python",
   "name": "python",
   "nbconvert_exporter": "python",
   "pygments_lexer": "ipython3",
   "version": "3.9.1"
  },
  "orig_nbformat": 4,
  "vscode": {
   "interpreter": {
    "hash": "4bbc1c972b9b102a93c73821bc38c3abe2659eb37faffcc2a906a1a9997853cc"
   }
  }
 },
 "nbformat": 4,
 "nbformat_minor": 2
}
